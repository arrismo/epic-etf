{
 "cells": [
  {
   "cell_type": "code",
   "execution_count": 5,
   "metadata": {},
   "outputs": [],
   "source": [
    "import pandas as pd\n",
    "import duckdb \n",
    "bond_data = duckdb.read_csv('datasets/bond_etfs.csv')\n",
    "con  = duckdb.connect(\"bonds.db\")"
   ]
  },
  {
   "cell_type": "code",
   "execution_count": null,
   "metadata": {},
   "outputs": [],
   "source": [
    "# Create Table\n",
    "con.sql(\"\"\"\n",
    "    CREATE TABLE bonds (\n",
    "        \"Date\" DATE PRIMARY KEY,\n",
    "        AGG DECIMAL(10,2),\n",
    "        BIL DECIMAL(10,2),\n",
    "        BND DECIMAL(10,2),\n",
    "        EDV DECIMAL(10,2),\n",
    "        IEF DECIMAL(10,2),\n",
    "        IEI DECIMAL(10,2),\n",
    "        SGOV DECIMAL(10,2),\n",
    "        SHV DECIMAL(10,2),\n",
    "        SHY DECIMAL(10,2),\n",
    "        TLH DECIMAL(10,2),\n",
    "        TLT DECIMAL(10,2),\n",
    "        VGIT DECIMAL(10,2)\n",
    "    );\n",
    "\"\"\")"
   ]
  },
  {
   "cell_type": "code",
   "execution_count": 28,
   "metadata": {},
   "outputs": [
    {
     "data": {
      "text/plain": [
       "<duckdb.duckdb.DuckDBPyConnection at 0x227e88df8f0>"
      ]
     },
     "execution_count": 28,
     "metadata": {},
     "output_type": "execute_result"
    }
   ],
   "source": [
    "# Check Table \n",
    "#con.table(\"bonds\").show()\n",
    "con.execute(\"\"\" DESCRIBE bonds;\n",
    "\"\"\")"
   ]
  },
  {
   "cell_type": "code",
   "execution_count": null,
   "metadata": {},
   "outputs": [],
   "source": [
    "# Insert Raw data into bond table\n",
    "con.execute(\"\"\"\n",
    "    COPY bonds FROM 'datasets/bond_etfs.csv' (FORMAT CSV, DELIMITER ',', HEADER TRUE);\n",
    "\"\"\")"
   ]
  },
  {
   "cell_type": "code",
   "execution_count": 21,
   "metadata": {},
   "outputs": [
    {
     "data": {
      "text/plain": [
       "<duckdb.duckdb.DuckDBPyConnection at 0x227e88df8f0>"
      ]
     },
     "execution_count": 21,
     "metadata": {},
     "output_type": "execute_result"
    }
   ],
   "source": [
    "# Create date columns, Year, Month, Quarter\n",
    "con.execute(\"\"\"\n",
    "SELECT MONTH(\"Date\") as MONTH from bonds \n",
    "            \"\"\")\n"
   ]
  },
  {
   "cell_type": "code",
   "execution_count": 25,
   "metadata": {},
   "outputs": [
    {
     "data": {
      "text/plain": [
       "<duckdb.duckdb.DuckDBPyConnection at 0x227e88df8f0>"
      ]
     },
     "execution_count": 25,
     "metadata": {},
     "output_type": "execute_result"
    }
   ],
   "source": [
    "con.execute(\"\"\"\n",
    "            ALTER TABLE bonds\n",
    "ADD COLUMN MONTH INT ;\n",
    "\"\"\"\n",
    "            )"
   ]
  },
  {
   "cell_type": "code",
   "execution_count": null,
   "metadata": {},
   "outputs": [],
   "source": [
    "# Create Percent Change Variables 'AAPL_pct_change'"
   ]
  }
 ],
 "metadata": {
  "kernelspec": {
   "display_name": "myenv",
   "language": "python",
   "name": "python3"
  },
  "language_info": {
   "codemirror_mode": {
    "name": "ipython",
    "version": 3
   },
   "file_extension": ".py",
   "mimetype": "text/x-python",
   "name": "python",
   "nbconvert_exporter": "python",
   "pygments_lexer": "ipython3",
   "version": "3.13.1"
  }
 },
 "nbformat": 4,
 "nbformat_minor": 2
}
