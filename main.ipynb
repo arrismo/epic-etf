{
 "cells": [
  {
   "cell_type": "code",
   "execution_count": null,
   "metadata": {},
   "outputs": [
    {
     "data": {
      "text/plain": [
       "Index(['Date', 'AGG', 'BIL', 'BND', 'EDV', 'IEF', 'IEI', 'SGOV', 'SHV', 'SHY',\n",
       "       'TLH', 'TLT', 'VGIT'],\n",
       "      dtype='object')\n"
      ]
     },
     "metadata": {},
     "output_type": "display_data"
    }
   ],
   "source": [
    "import pandas as pd\n",
    "bond_data = pd.read_csv('datasets/bond_etfs.csv')\n",
    "print(bond_data.columns)"
   ]
  },
  {
   "cell_type": "code",
   "execution_count": null,
   "metadata": {},
   "outputs": [],
   "source": [
    "# Create date columns, Year, Month, Quarter\n"
   ]
  },
  {
   "cell_type": "code",
   "execution_count": 1,
   "metadata": {},
   "outputs": [
    {
     "name": "stdout",
     "output_type": "stream",
     "text": [
      "        Date       AAPL       AMZN    GOOGL       META       MSFT     NVDA       TSLA  AAPL_pct_change  AMZN_pct_change  GOOGL_pct_change  META_pct_change  MSFT_pct_change  NVDA_pct_change  TSLA_pct_change\n",
      "0 2014-12-01  28.767500  16.299999  26.9825  75.099998  48.619999  0.51450  15.442667              NaN              NaN               NaN              NaN              NaN              NaN              NaN\n",
      "1 2014-12-02  28.657499  16.315500  26.9295  75.459999  48.459999  0.51525  15.428667        -0.382379         0.095098         -0.196424         0.479362        -0.329083         0.145773        -0.090658\n",
      "2 2014-12-03  29.000000  16.400000  27.0500  75.750000  48.700000  0.52000  15.500000         1.195153         0.517912          0.447465         0.384311         0.495256         0.921883         0.462341\n"
     ]
    }
   ],
   "source": [
    "# Create Percent Change Variables 'AAPL_pct_change"
   ]
  }
 ],
 "metadata": {
  "kernelspec": {
   "display_name": "Python 3",
   "language": "python",
   "name": "python3"
  },
  "language_info": {
   "codemirror_mode": {
    "name": "ipython",
    "version": 3
   },
   "file_extension": ".py",
   "mimetype": "text/x-python",
   "name": "python",
   "nbconvert_exporter": "python",
   "pygments_lexer": "ipython3",
   "version": "3.12.1"
  }
 },
 "nbformat": 4,
 "nbformat_minor": 2
}
